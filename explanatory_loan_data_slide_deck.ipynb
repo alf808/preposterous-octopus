{
 "cells": [
  {
   "cell_type": "markdown",
   "metadata": {
    "slideshow": {
     "slide_type": "slide"
    }
   },
   "source": [
    "# What Features Affect a Borrower's Loan Rate and Prosper Rating\n",
    "## by Alf Maglalang"
   ]
  },
  {
   "cell_type": "markdown",
   "metadata": {
    "slideshow": {
     "slide_type": "slide"
    }
   },
   "source": [
    "## Investigation Overview\n",
    "\n",
    "> The goal of the investigation is to examine through visualizations which features have relationships with **Prosper Rating** and `BorrowerRate`. I am conflating **Prosper Rating** to mean the features `CreditGrade` and `ProsperRating (numeric)` which are mutually exclusive with `CreditGrade` before mid 2009 and `ProsperRating (numeric)` after mid-2009.\n",
    "\n",
    "## Dataset Overview\n",
    "\n",
    "> This loan data is from a lending company called **Prosper**. It was last updated 3/11/2014. It has 113937 records with 81 features, namely\n",
    "\n",
    "> `ListingKey`, `ListingNumber`, `ListingCreationDate`, `CreditGrade`, `Term`, `LoanStatus`, `ClosedDate`, `BorrowerAPR`, `BorrowerRate`, `LenderYield`, `EstimatedEffectiveYield`, `EstimatedLoss`, `EstimatedReturn`, `ProsperRating (numeric)`, `ProsperRating (Alpha)`, `ProsperScore`, `ListingCategory (numeric)`, `BorrowerState`, `Occupation`, `EmploymentStatus`, `EmploymentStatusDuration`, `IsBorrowerHomeowner`, `CurrentlyInGroup`, `GroupKey`, `DateCreditPulled`, `CreditScoreRangeLower`, `CreditScoreRangeUpper`, `FirstRecordedCreditLine`, `CurrentCreditLines`, `OpenCreditLines`, `TotalCreditLinespast7years`, `OpenRevolvingAccounts`, `OpenRevolvingMonthlyPayment`, `InquiriesLast6Months`, `TotalInquiries`, `CurrentDelinquencies`, `AmountDelinquent`, `DelinquenciesLast7Years`, `PublicRecordsLast10Years`, `PublicRecordsLast12Months`, `RevolvingCreditBalance`, `BankcardUtilization`, `AvailableBankcardCredit`, `TotalTrades`, `TradesNeverDelinquent (percentage)`, `TradesOpenedLast6Months`, `DebtToIncomeRatio`, `IncomeRange`, `IncomeVerifiable`, `StatedMonthlyIncome`, `LoanKey`, `TotalProsperLoans`, `TotalProsperPaymentsBilled`, `OnTimeProsperPayments`, `ProsperPaymentsLessThanOneMonthLate`, `ProsperPaymentsOneMonthPlusLate`, `ProsperPrincipalBorrowed`, `ProsperPrincipalOutstanding`, `ScorexChangeAtTimeOfListing`, `LoanCurrentDaysDelinquent`, `LoanFirstDefaultedCycleNumber`, `LoanMonthsSinceOrigination`, `LoanNumber`, `LoanOriginalAmount`, `LoanOriginationDate`, `LoanOriginationQuarter`, `MemberKey`, `MonthlyLoanPayment`, `LP_CustomerPayments`, `LP_CustomerPrincipalPayments`, `LP_InterestandFees`, `LP_ServiceFees`, `LP_CollectionFees`, `LP_GrossPrincipalLoss`, `LP_NetPrincipalLoss`, `LP_NonPrincipalRecoverypayments`, `PercentFunded`, `Recommendations`, `InvestmentFromFriendsCount`, `InvestmentFromFriendsAmount`, `Investors`\n",
    "\n",
    "> Please click on the following link to see the definitions of the data's features. [Prosper Data Dictionary to Explain Dataset's Variables](https://www.google.com/url?q=https://docs.google.com/spreadsheet/ccc?key%3D0AllIqIyvWZdadDd5NTlqZ1pBMHlsUjdrOTZHaVBuSlE%26usp%3Dsharing&sa=D&ust=1554486256024000)\n",
    "\n",
    "> For my analysis, I will look at these features:\n",
    "> `ListingKey`, `EmploymentStatusDuration`, `EmploymentStatus`, `LoanOriginalAmount`, `CreditGrade`, `ProsperRating (numeric)`, `ProsperScore`, `BorrowerRate`, `CreditScoreRangeUpper`, `CurrentDelinquencies`, `IsBorrowerHomeowner`, `CurrentCreditLines`, `AvailableBankcardCredit`\n",
    "\n",
    "> I created 3 new features and renamed one..\n",
    "\n",
    "> - `ProsperRating` -- renaming of `ProsperRating (numeric)` \n",
    "> - `ProsperScoreRange` -- a column containing a string of \"incorrect\" `ProsperScore`s of duplicated `ListingKey` IDs\n",
    "> - `ProsperRatingGrade` -- a column combining `CreditGrade` and `ProsperRating`\n",
    "> - `IsPost2009` -- a column that is a form of boolean mask differentiating if a `ProsperRatingGrade` is originally from `CreditGrade` or from `ProsperRating`."
   ]
  },
  {
   "cell_type": "code",
   "execution_count": 80,
   "metadata": {
    "slideshow": {
     "slide_type": "skip"
    }
   },
   "outputs": [],
   "source": [
    "# import all packages and set plots to be embedded inline\n",
    "import numpy as np\n",
    "import pandas as pd\n",
    "import matplotlib.pyplot as plt\n",
    "import seaborn as sb\n",
    "\n",
    "%matplotlib inline\n",
    "\n",
    "# suppress warnings from final output\n",
    "import warnings\n",
    "warnings.simplefilter(\"ignore\")"
   ]
  },
  {
   "cell_type": "code",
   "execution_count": 81,
   "metadata": {
    "slideshow": {
     "slide_type": "skip"
    }
   },
   "outputs": [],
   "source": [
    "# load in the dataset into a pandas dataframe\n",
    "# pld will be short for prosperLoanData\n",
    "pld = pd.read_csv('prosperLoanData.csv')"
   ]
  },
  {
   "cell_type": "code",
   "execution_count": 82,
   "metadata": {},
   "outputs": [
    {
     "name": "stdout",
     "output_type": "stream",
     "text": [
      "['ListingKey', 'EmploymentStatusDuration', 'EmploymentStatus', 'LoanOriginalAmount', 'CreditGrade', 'ProsperRating', 'ProsperScore', 'ProsperScoreRange', 'ProsperRatingGrade', 'IsPost2009', 'BorrowerRate', 'CreditScore', 'CurrentDelinquencies', 'IsBorrowerHomeowner', 'CurrentCreditLines', 'AvailableBankcardCredit']\n"
     ]
    }
   ],
   "source": [
    "print(select_features)"
   ]
  },
  {
   "cell_type": "markdown",
   "metadata": {},
   "source": [
    "## Remove Duplicate ListingKey IDs (while preserving ProsperScore)"
   ]
  },
  {
   "cell_type": "code",
   "execution_count": 83,
   "metadata": {},
   "outputs": [],
   "source": [
    "# dup_listing_idx contains the keys that have duplicates:\n",
    "dup_idx = pld[pld.ListingKey.duplicated()]['ListingKey']\n",
    "dup_listing_idx = set(dup_idx.tolist())"
   ]
  },
  {
   "cell_type": "code",
   "execution_count": 84,
   "metadata": {},
   "outputs": [],
   "source": [
    "tpld = pld.copy()"
   ]
  },
  {
   "cell_type": "code",
   "execution_count": 85,
   "metadata": {},
   "outputs": [],
   "source": [
    "# trim spaces to make sure it is not spaces that make a difference\n",
    "tpld = tpld.apply(lambda x: x.str.strip() if x.dtype == \"object\" else x)\n",
    "\n",
    "# create a dataframe with just ListingKey and ProsperScore\n",
    "lk_ps_df = tpld[tpld.ListingKey.isin(dup_listing_idx)][['ListingKey', 'ProsperScore']]\n",
    "lk_ps_df = lk_ps_df.sort_values(by=['ListingKey', 'ProsperScore'])\n",
    "\n",
    "# create a new column ProsperScoreRange and set index to ListingKey\n",
    "lk_ps_df['ProsperScoreRange'] = None\n",
    "lk_ps_df = lk_ps_df.set_index(['ListingKey'])\n",
    "\n",
    "# create a dictionary with key as ListingKey and the ProsperScore range as value\n",
    "psr_dict = {}\n",
    "for lk in dup_listing_idx:\n",
    "    psr_dict[lk] = lk_ps_df.loc[lk]['ProsperScore'].tolist()\n",
    "\n",
    "# place all the new range value from the dictionary into dataframe column lk_ps_df['ProsperScoreRange']\n",
    "for k, v in psr_dict.items():\n",
    "    vstr = [str(i) for i in v] # convert the list into strings\n",
    "    yy = \",\".join(vstr)\n",
    "    lk_ps_df.loc[k, 'ProsperScoreRange'] = yy\n",
    "\n",
    "# reset the index then drop the column ProsperScore from lk_ps_df\n",
    "lk_ps_df.reset_index(inplace=True)\n",
    "lk_ps_df = lk_ps_df.drop(['ProsperScore'], axis=1)\n",
    "\n",
    "# now remove all the duplicates on ListingKey\n",
    "lk_ps_df.drop_duplicates(subset=['ListingKey'], inplace=True, keep='first')\n",
    "\n",
    "temp_cols = ['ListingKey', 'ListingNumber', 'ListingCreationDate', 'CreditGrade', 'Term', 'LoanStatus', 'ClosedDate', 'BorrowerAPR', 'BorrowerRate', 'LenderYield', 'EstimatedEffectiveYield', 'EstimatedLoss', 'EstimatedReturn', 'ProsperRating (numeric)', 'ProsperRating (Alpha)', 'ListingCategory (numeric)', 'BorrowerState', 'Occupation', 'EmploymentStatus', 'EmploymentStatusDuration', 'IsBorrowerHomeowner', 'CurrentlyInGroup', 'GroupKey', 'DateCreditPulled', 'CreditScoreRangeLower', 'CreditScoreRangeUpper', 'FirstRecordedCreditLine', 'CurrentCreditLines', 'OpenCreditLines', 'TotalCreditLinespast7years', 'OpenRevolvingAccounts', 'OpenRevolvingMonthlyPayment', 'InquiriesLast6Months', 'TotalInquiries', 'CurrentDelinquencies', 'AmountDelinquent', 'DelinquenciesLast7Years', 'PublicRecordsLast10Years', 'PublicRecordsLast12Months', 'RevolvingCreditBalance', 'BankcardUtilization', 'AvailableBankcardCredit', 'TotalTrades', 'TradesNeverDelinquent (percentage)', 'TradesOpenedLast6Months', 'DebtToIncomeRatio', 'IncomeRange', 'IncomeVerifiable', 'StatedMonthlyIncome', 'LoanKey', 'TotalProsperLoans', 'TotalProsperPaymentsBilled', 'OnTimeProsperPayments', 'ProsperPaymentsLessThanOneMonthLate', 'ProsperPaymentsOneMonthPlusLate', 'ProsperPrincipalBorrowed', 'ProsperPrincipalOutstanding', 'ScorexChangeAtTimeOfListing', 'LoanCurrentDaysDelinquent', 'LoanFirstDefaultedCycleNumber', 'LoanMonthsSinceOrigination', 'LoanNumber', 'LoanOriginalAmount', 'LoanOriginationDate', 'LoanOriginationQuarter', 'MemberKey', 'MonthlyLoanPayment', 'LP_CustomerPayments', 'LP_CustomerPrincipalPayments', 'LP_InterestandFees', 'LP_ServiceFees', 'LP_CollectionFees', 'LP_GrossPrincipalLoss', 'LP_NetPrincipalLoss', 'LP_NonPrincipalRecoverypayments', 'PercentFunded', 'Recommendations', 'InvestmentFromFriendsCount', 'InvestmentFromFriendsAmount', 'Investors']\n",
    "\n",
    "# drop all the duplicates in tpld based on temp_cols subset (i.e., without ProsperScore)\n",
    "tpld.drop_duplicates(subset=temp_cols, inplace=True, keep='first')\n",
    "\n",
    "# merge the two df tpld and lk_ps_df on ListingKey\n",
    "tpld = pd.merge(tpld, lk_ps_df, on=['ListingKey'], how='left')"
   ]
  },
  {
   "cell_type": "markdown",
   "metadata": {},
   "source": [
    "## Rename some columns"
   ]
  },
  {
   "cell_type": "code",
   "execution_count": 86,
   "metadata": {},
   "outputs": [],
   "source": [
    "# rename ProsperRating (numeric) and CreditScoreRangeUpper\n",
    "tpld = tpld.rename(columns={'ProsperRating (numeric)': 'ProsperRating', 'CreditScoreRangeUpper': 'CreditScore'})"
   ]
  },
  {
   "cell_type": "markdown",
   "metadata": {},
   "source": [
    "## Convert CreditGrade to number rating"
   ]
  },
  {
   "cell_type": "code",
   "execution_count": 87,
   "metadata": {},
   "outputs": [],
   "source": [
    "# pr_dict is based on the prosper rating definitions provided by Prosper\n",
    "pr_dict = {'NC': 0, 'HR': 1, 'E': 2, 'D': 3, 'C': 4, 'B': 5, 'A': 6, 'AA': 7}\n",
    "tpld.CreditGrade.replace(pr_dict, inplace=True)"
   ]
  },
  {
   "cell_type": "markdown",
   "metadata": {},
   "source": [
    "## Create new column merging CreditGrade and ProsperRating"
   ]
  },
  {
   "cell_type": "code",
   "execution_count": 88,
   "metadata": {},
   "outputs": [
    {
     "data": {
      "text/plain": [
       "131"
      ]
     },
     "execution_count": 88,
     "metadata": {},
     "output_type": "execute_result"
    }
   ],
   "source": [
    "# create new column based on ProsperRating then merge CreditGrade into new column\n",
    "tpld['ProsperRatingGrade'] = tpld['ProsperRating']\n",
    "tpld.ProsperRatingGrade.update(tpld['CreditGrade'])\n",
    "tpld.ProsperRatingGrade.isnull().sum()"
   ]
  },
  {
   "cell_type": "markdown",
   "metadata": {},
   "source": [
    "## Create a boolean column to differentiate pre-2009 and post-2009 ratings\n",
    "\n",
    "### Please note that this is to facilitate plot drawing"
   ]
  },
  {
   "cell_type": "code",
   "execution_count": 89,
   "metadata": {},
   "outputs": [],
   "source": [
    "# creating mask columns for ProsperRating and CreditGrade\n",
    "tpld['IsPR'] = np.where(tpld.ProsperRating.notnull(), 1, None) # column IsPR\n",
    "tpld['IsCG'] = np.where(tpld.CreditGrade.notnull(), 2, None) # column \n",
    "\n",
    "# create column post2009 with copy of IsPR first, then update to include IsCG\n",
    "tpld['IsPost2009'] = tpld['IsPR']\n",
    "tpld.IsPost2009.update(tpld['IsCG'])\n",
    "\n",
    "# drop all the rows that have nulls in post2009, i.e. no content in either CreditGrade nor ProsperRating\n",
    "#tpld = tpld.dropna(subset=['IsPost2009'])\n",
    "\n",
    "# replace all the 2 (the CreditGrade content) to 0\n",
    "tpld.IsPost2009.replace(2, 0, inplace=True)"
   ]
  },
  {
   "cell_type": "code",
   "execution_count": 90,
   "metadata": {},
   "outputs": [
    {
     "data": {
      "text/html": [
       "<div>\n",
       "<style scoped>\n",
       "    .dataframe tbody tr th:only-of-type {\n",
       "        vertical-align: middle;\n",
       "    }\n",
       "\n",
       "    .dataframe tbody tr th {\n",
       "        vertical-align: top;\n",
       "    }\n",
       "\n",
       "    .dataframe thead th {\n",
       "        text-align: right;\n",
       "    }\n",
       "</style>\n",
       "<table border=\"1\" class=\"dataframe\">\n",
       "  <thead>\n",
       "    <tr style=\"text-align: right;\">\n",
       "      <th></th>\n",
       "      <th>IsPR</th>\n",
       "      <th>ProsperRating</th>\n",
       "      <th>IsCG</th>\n",
       "      <th>CreditGrade</th>\n",
       "      <th>IsPost2009</th>\n",
       "    </tr>\n",
       "  </thead>\n",
       "  <tbody>\n",
       "    <tr>\n",
       "      <th>7986</th>\n",
       "      <td>None</td>\n",
       "      <td>NaN</td>\n",
       "      <td>2</td>\n",
       "      <td>1.0</td>\n",
       "      <td>0.0</td>\n",
       "    </tr>\n",
       "    <tr>\n",
       "      <th>105282</th>\n",
       "      <td>1</td>\n",
       "      <td>3.0</td>\n",
       "      <td>None</td>\n",
       "      <td>NaN</td>\n",
       "      <td>1.0</td>\n",
       "    </tr>\n",
       "    <tr>\n",
       "      <th>57746</th>\n",
       "      <td>None</td>\n",
       "      <td>NaN</td>\n",
       "      <td>2</td>\n",
       "      <td>5.0</td>\n",
       "      <td>0.0</td>\n",
       "    </tr>\n",
       "    <tr>\n",
       "      <th>94511</th>\n",
       "      <td>1</td>\n",
       "      <td>3.0</td>\n",
       "      <td>None</td>\n",
       "      <td>NaN</td>\n",
       "      <td>1.0</td>\n",
       "    </tr>\n",
       "    <tr>\n",
       "      <th>38914</th>\n",
       "      <td>None</td>\n",
       "      <td>NaN</td>\n",
       "      <td>2</td>\n",
       "      <td>1.0</td>\n",
       "      <td>0.0</td>\n",
       "    </tr>\n",
       "    <tr>\n",
       "      <th>74322</th>\n",
       "      <td>1</td>\n",
       "      <td>4.0</td>\n",
       "      <td>None</td>\n",
       "      <td>NaN</td>\n",
       "      <td>1.0</td>\n",
       "    </tr>\n",
       "    <tr>\n",
       "      <th>100250</th>\n",
       "      <td>1</td>\n",
       "      <td>6.0</td>\n",
       "      <td>None</td>\n",
       "      <td>NaN</td>\n",
       "      <td>1.0</td>\n",
       "    </tr>\n",
       "    <tr>\n",
       "      <th>47294</th>\n",
       "      <td>1</td>\n",
       "      <td>6.0</td>\n",
       "      <td>None</td>\n",
       "      <td>NaN</td>\n",
       "      <td>1.0</td>\n",
       "    </tr>\n",
       "    <tr>\n",
       "      <th>83268</th>\n",
       "      <td>1</td>\n",
       "      <td>7.0</td>\n",
       "      <td>None</td>\n",
       "      <td>NaN</td>\n",
       "      <td>1.0</td>\n",
       "    </tr>\n",
       "    <tr>\n",
       "      <th>3085</th>\n",
       "      <td>1</td>\n",
       "      <td>4.0</td>\n",
       "      <td>None</td>\n",
       "      <td>NaN</td>\n",
       "      <td>1.0</td>\n",
       "    </tr>\n",
       "    <tr>\n",
       "      <th>53256</th>\n",
       "      <td>None</td>\n",
       "      <td>NaN</td>\n",
       "      <td>2</td>\n",
       "      <td>5.0</td>\n",
       "      <td>0.0</td>\n",
       "    </tr>\n",
       "    <tr>\n",
       "      <th>64983</th>\n",
       "      <td>1</td>\n",
       "      <td>5.0</td>\n",
       "      <td>None</td>\n",
       "      <td>NaN</td>\n",
       "      <td>1.0</td>\n",
       "    </tr>\n",
       "    <tr>\n",
       "      <th>91829</th>\n",
       "      <td>1</td>\n",
       "      <td>6.0</td>\n",
       "      <td>None</td>\n",
       "      <td>NaN</td>\n",
       "      <td>1.0</td>\n",
       "    </tr>\n",
       "    <tr>\n",
       "      <th>2129</th>\n",
       "      <td>1</td>\n",
       "      <td>7.0</td>\n",
       "      <td>None</td>\n",
       "      <td>NaN</td>\n",
       "      <td>1.0</td>\n",
       "    </tr>\n",
       "    <tr>\n",
       "      <th>70594</th>\n",
       "      <td>1</td>\n",
       "      <td>6.0</td>\n",
       "      <td>None</td>\n",
       "      <td>NaN</td>\n",
       "      <td>1.0</td>\n",
       "    </tr>\n",
       "    <tr>\n",
       "      <th>71498</th>\n",
       "      <td>1</td>\n",
       "      <td>2.0</td>\n",
       "      <td>None</td>\n",
       "      <td>NaN</td>\n",
       "      <td>1.0</td>\n",
       "    </tr>\n",
       "    <tr>\n",
       "      <th>91295</th>\n",
       "      <td>1</td>\n",
       "      <td>2.0</td>\n",
       "      <td>None</td>\n",
       "      <td>NaN</td>\n",
       "      <td>1.0</td>\n",
       "    </tr>\n",
       "    <tr>\n",
       "      <th>44384</th>\n",
       "      <td>None</td>\n",
       "      <td>NaN</td>\n",
       "      <td>2</td>\n",
       "      <td>4.0</td>\n",
       "      <td>0.0</td>\n",
       "    </tr>\n",
       "    <tr>\n",
       "      <th>4335</th>\n",
       "      <td>1</td>\n",
       "      <td>6.0</td>\n",
       "      <td>None</td>\n",
       "      <td>NaN</td>\n",
       "      <td>1.0</td>\n",
       "    </tr>\n",
       "    <tr>\n",
       "      <th>10980</th>\n",
       "      <td>1</td>\n",
       "      <td>7.0</td>\n",
       "      <td>None</td>\n",
       "      <td>NaN</td>\n",
       "      <td>1.0</td>\n",
       "    </tr>\n",
       "  </tbody>\n",
       "</table>\n",
       "</div>"
      ],
      "text/plain": [
       "        IsPR  ProsperRating  IsCG  CreditGrade  IsPost2009\n",
       "7986    None            NaN     2          1.0         0.0\n",
       "105282     1            3.0  None          NaN         1.0\n",
       "57746   None            NaN     2          5.0         0.0\n",
       "94511      1            3.0  None          NaN         1.0\n",
       "38914   None            NaN     2          1.0         0.0\n",
       "74322      1            4.0  None          NaN         1.0\n",
       "100250     1            6.0  None          NaN         1.0\n",
       "47294      1            6.0  None          NaN         1.0\n",
       "83268      1            7.0  None          NaN         1.0\n",
       "3085       1            4.0  None          NaN         1.0\n",
       "53256   None            NaN     2          5.0         0.0\n",
       "64983      1            5.0  None          NaN         1.0\n",
       "91829      1            6.0  None          NaN         1.0\n",
       "2129       1            7.0  None          NaN         1.0\n",
       "70594      1            6.0  None          NaN         1.0\n",
       "71498      1            2.0  None          NaN         1.0\n",
       "91295      1            2.0  None          NaN         1.0\n",
       "44384   None            NaN     2          4.0         0.0\n",
       "4335       1            6.0  None          NaN         1.0\n",
       "10980      1            7.0  None          NaN         1.0"
      ]
     },
     "execution_count": 90,
     "metadata": {},
     "output_type": "execute_result"
    }
   ],
   "source": [
    "tpld[['IsPR', 'ProsperRating', 'IsCG', 'CreditGrade', 'IsPost2009']].sample(1300).head(20)"
   ]
  },
  {
   "cell_type": "code",
   "execution_count": 91,
   "metadata": {},
   "outputs": [
    {
     "data": {
      "text/plain": [
       "84"
      ]
     },
     "execution_count": 91,
     "metadata": {},
     "output_type": "execute_result"
    }
   ],
   "source": [
    "# clean up\n",
    "tpld = tpld.drop(['IsPR', 'IsCG'], axis=1)\n",
    "len(tpld.columns)"
   ]
  },
  {
   "cell_type": "markdown",
   "metadata": {},
   "source": [
    "## Correct the errors in ProsperScore"
   ]
  },
  {
   "cell_type": "code",
   "execution_count": 118,
   "metadata": {},
   "outputs": [],
   "source": [
    "# groupby ProsperRating and get the average of the other numeric fields per ProsperRating group\n",
    "avgpr = tpld.groupby('ProsperRating').mean()"
   ]
  },
  {
   "cell_type": "code",
   "execution_count": 119,
   "metadata": {},
   "outputs": [
    {
     "name": "stdout",
     "output_type": "stream",
     "text": [
      "ProsperRating\n",
      "1.0     4.0\n",
      "2.0     4.0\n",
      "3.0     5.0\n",
      "4.0     6.0\n",
      "5.0     7.0\n",
      "6.0     9.0\n",
      "7.0    10.0\n",
      "Name: ProsperScore, dtype: float64\n"
     ]
    }
   ],
   "source": [
    "print(avgpr.ProsperScore.apply(np.ceil))"
   ]
  },
  {
   "cell_type": "code",
   "execution_count": 120,
   "metadata": {},
   "outputs": [
    {
     "data": {
      "text/plain": [
       "{1: 4.0, 2: 4.0, 3: 5.0, 4: 6.0, 5: 7.0, 6: 9.0, 7: 10.0}"
      ]
     },
     "execution_count": 120,
     "metadata": {},
     "output_type": "execute_result"
    }
   ],
   "source": [
    "avgpr = avgpr.reset_index() # necessary to use ProsperRating again as a column\n",
    "# create a dictionary ProsperRating as key and mean ProsperScore as value\n",
    "p_score = dict(zip(avgpr.ProsperRating.apply(int), avgpr.ProsperScore.apply(np.ceil)))\n",
    "p_score"
   ]
  },
  {
   "cell_type": "code",
   "execution_count": 139,
   "metadata": {},
   "outputs": [],
   "source": [
    "# this is a little computationally expensive. There has to be a declarative way to do this\n",
    "for idx in dup_listing_idx:\n",
    "    pr = int(tpld[tpld.ListingKey.eq(idx)]['ProsperRating']) # get the ProsperRating to use for dict lookup\n",
    "    tpld.loc[tpld.ListingKey.eq(idx), 'ProsperScore'] = p_score.get(pr)"
   ]
  },
  {
   "cell_type": "code",
   "execution_count": 142,
   "metadata": {},
   "outputs": [
    {
     "data": {
      "text/html": [
       "<div>\n",
       "<style scoped>\n",
       "    .dataframe tbody tr th:only-of-type {\n",
       "        vertical-align: middle;\n",
       "    }\n",
       "\n",
       "    .dataframe tbody tr th {\n",
       "        vertical-align: top;\n",
       "    }\n",
       "\n",
       "    .dataframe thead th {\n",
       "        text-align: right;\n",
       "    }\n",
       "</style>\n",
       "<table border=\"1\" class=\"dataframe\">\n",
       "  <thead>\n",
       "    <tr style=\"text-align: right;\">\n",
       "      <th></th>\n",
       "      <th>ProsperRating</th>\n",
       "      <th>ProsperScore</th>\n",
       "      <th>ProsperScoreRange</th>\n",
       "    </tr>\n",
       "  </thead>\n",
       "  <tbody>\n",
       "    <tr>\n",
       "      <th>8</th>\n",
       "      <td>7.0</td>\n",
       "      <td>10.0</td>\n",
       "      <td>9.0,11.0</td>\n",
       "    </tr>\n",
       "    <tr>\n",
       "      <th>28</th>\n",
       "      <td>6.0</td>\n",
       "      <td>9.0</td>\n",
       "      <td>5.0,6.0</td>\n",
       "    </tr>\n",
       "    <tr>\n",
       "      <th>175</th>\n",
       "      <td>2.0</td>\n",
       "      <td>4.0</td>\n",
       "      <td>2.0,3.0</td>\n",
       "    </tr>\n",
       "    <tr>\n",
       "      <th>312</th>\n",
       "      <td>5.0</td>\n",
       "      <td>7.0</td>\n",
       "      <td>2.0,3.0</td>\n",
       "    </tr>\n",
       "    <tr>\n",
       "      <th>348</th>\n",
       "      <td>5.0</td>\n",
       "      <td>7.0</td>\n",
       "      <td>2.0,5.0</td>\n",
       "    </tr>\n",
       "    <tr>\n",
       "      <th>441</th>\n",
       "      <td>4.0</td>\n",
       "      <td>6.0</td>\n",
       "      <td>3.0,4.0</td>\n",
       "    </tr>\n",
       "    <tr>\n",
       "      <th>443</th>\n",
       "      <td>4.0</td>\n",
       "      <td>6.0</td>\n",
       "      <td>4.0,7.0</td>\n",
       "    </tr>\n",
       "    <tr>\n",
       "      <th>454</th>\n",
       "      <td>5.0</td>\n",
       "      <td>7.0</td>\n",
       "      <td>6.0,9.0</td>\n",
       "    </tr>\n",
       "    <tr>\n",
       "      <th>460</th>\n",
       "      <td>4.0</td>\n",
       "      <td>6.0</td>\n",
       "      <td>6.0,8.0</td>\n",
       "    </tr>\n",
       "    <tr>\n",
       "      <th>639</th>\n",
       "      <td>6.0</td>\n",
       "      <td>9.0</td>\n",
       "      <td>8.0,10.0</td>\n",
       "    </tr>\n",
       "  </tbody>\n",
       "</table>\n",
       "</div>"
      ],
      "text/plain": [
       "     ProsperRating  ProsperScore ProsperScoreRange\n",
       "8              7.0          10.0          9.0,11.0\n",
       "28             6.0           9.0           5.0,6.0\n",
       "175            2.0           4.0           2.0,3.0\n",
       "312            5.0           7.0           2.0,3.0\n",
       "348            5.0           7.0           2.0,5.0\n",
       "441            4.0           6.0           3.0,4.0\n",
       "443            4.0           6.0           4.0,7.0\n",
       "454            5.0           7.0           6.0,9.0\n",
       "460            4.0           6.0           6.0,8.0\n",
       "639            6.0           9.0          8.0,10.0"
      ]
     },
     "execution_count": 142,
     "metadata": {},
     "output_type": "execute_result"
    }
   ],
   "source": [
    "peek_df = tpld[tpld.ListingKey.isin(dup_listing_idx)]\n",
    "peek_df[['ProsperRating', 'ProsperScore', 'ProsperScoreRange']].head(10)"
   ]
  },
  {
   "cell_type": "markdown",
   "metadata": {},
   "source": [
    "## Extract the investigative features"
   ]
  },
  {
   "cell_type": "code",
   "execution_count": 143,
   "metadata": {},
   "outputs": [],
   "source": [
    "select_features = ['ListingKey', 'EmploymentStatusDuration', 'EmploymentStatus', 'LoanOriginalAmount', 'CreditGrade', 'ProsperRating', 'ProsperScore', 'ProsperScoreRange', 'ProsperRatingGrade', 'IsPost2009', 'BorrowerRate', 'CreditScore', 'CurrentDelinquencies', 'IsBorrowerHomeowner', 'CurrentCreditLines', 'AvailableBankcardCredit']\n",
    "df = tpld[select_features]"
   ]
  },
  {
   "cell_type": "code",
   "execution_count": 144,
   "metadata": {},
   "outputs": [
    {
     "name": "stdout",
     "output_type": "stream",
     "text": [
      "<class 'pandas.core.frame.DataFrame'>\n",
      "Int64Index: 113066 entries, 0 to 113065\n",
      "Data columns (total 16 columns):\n",
      " #   Column                    Non-Null Count   Dtype  \n",
      "---  ------                    --------------   -----  \n",
      " 0   ListingKey                113066 non-null  object \n",
      " 1   EmploymentStatusDuration  105441 non-null  float64\n",
      " 2   EmploymentStatus          110811 non-null  object \n",
      " 3   LoanOriginalAmount        113066 non-null  int64  \n",
      " 4   CreditGrade               28953 non-null   float64\n",
      " 5   ProsperRating             83982 non-null   float64\n",
      " 6   ProsperScore              83982 non-null   float64\n",
      " 7   ProsperScoreRange         827 non-null     object \n",
      " 8   ProsperRatingGrade        112935 non-null  float64\n",
      " 9   IsPost2009                112935 non-null  float64\n",
      " 10  BorrowerRate              113066 non-null  float64\n",
      " 11  CreditScore               112475 non-null  float64\n",
      " 12  CurrentDelinquencies      112369 non-null  float64\n",
      " 13  IsBorrowerHomeowner       113066 non-null  bool   \n",
      " 14  CurrentCreditLines        105462 non-null  float64\n",
      " 15  AvailableBankcardCredit   105522 non-null  float64\n",
      "dtypes: bool(1), float64(11), int64(1), object(3)\n",
      "memory usage: 13.9+ MB\n"
     ]
    }
   ],
   "source": [
    "df.info()"
   ]
  },
  {
   "cell_type": "code",
   "execution_count": 145,
   "metadata": {},
   "outputs": [
    {
     "data": {
      "text/plain": [
       "(113066, 16)"
      ]
     },
     "execution_count": 145,
     "metadata": {},
     "output_type": "execute_result"
    }
   ],
   "source": [
    "df.shape"
   ]
  },
  {
   "cell_type": "markdown",
   "metadata": {
    "slideshow": {
     "slide_type": "notes"
    }
   },
   "source": [
    "> Note that the above cells have been set as \"Skip\"-type slides. That means\n",
    "that when the notebook is rendered as http slides, those cells won't show up."
   ]
  },
  {
   "cell_type": "markdown",
   "metadata": {
    "slideshow": {
     "slide_type": "slide"
    }
   },
   "source": [
    "## What is ProsperScore to ProsperRating\n",
    "\n",
    "> The journey began with the discovery that there were duplicate records that only differed in the `ProsperScore` column. To correct these \"errors\", I set to determine and use the relationship between `ProsperRating` and `ProsperScore` since `ProsperRating` is the most correlative to `ProsperScore`.\n",
    "> The visual below illustrate that `ProsperRating` is a reasonable measure to determine \"correct\" `ProsperScore`.\n",
    "> I ultimately used the average ProsperScore corresponding to ProsperRating."
   ]
  },
  {
   "cell_type": "code",
   "execution_count": 40,
   "metadata": {
    "slideshow": {
     "slide_type": "subslide"
    }
   },
   "outputs": [
    {
     "data": {
      "image/png": "[encoded data removed]",
      "text/plain": [
       "<Figure size 720x576 with 1 Axes>"
      ]
     },
     "metadata": {
      "needs_background": "light"
     },
     "output_type": "display_data"
    }
   ],
   "source": [
    "fig, ax = plt.subplots(figsize=(10,8))\n",
    "sb.lineplot(data=df, x='ProsperRating', y='ProsperScore', marker='o')\n",
    "ax.set_yticks(np.arange(11)) # ProsperScore is a number between 1 and 10 inclusive\n",
    "plt.title('ProsperScore against ProsperRating');"
   ]
  },
  {
   "cell_type": "markdown",
   "metadata": {
    "slideshow": {
     "slide_type": "slide"
    }
   },
   "source": [
    "## Should I have combined CreditGrade and ProsperRating into one column\n",
    "\n",
    "> The plot below shows that the correspondence of `CreditGrade` and `ProsperRating` to BorrowerRate is comparable"
   ]
  },
  {
   "cell_type": "code",
   "execution_count": 152,
   "metadata": {
    "slideshow": {
     "slide_type": "subslide"
    }
   },
   "outputs": [
    {
     "data": {
      "image/png": "[encoded data removed]",
      "text/plain": [
       "<Figure size 864x720 with 2 Axes>"
      ]
     },
     "metadata": {
      "needs_background": "light"
     },
     "output_type": "display_data"
    }
   ],
   "source": [
    "fig, (ax1, ax2) = plt.subplots(ncols=2, sharey=True, figsize=(12,10))\n",
    "sb.regplot(x='ProsperRating', y='BorrowerRate', ax=ax1, data=df)\n",
    "sb.regplot(x='CreditGrade', y='BorrowerRate', ax=ax2, data=df)\n",
    "fig.suptitle('How do CreditGrade and ProsperRating compare against BorrowerRate');"
   ]
  },
  {
   "cell_type": "markdown",
   "metadata": {
    "slideshow": {
     "slide_type": "slide"
    }
   },
   "source": [
    "## Visual below is more telling of how BorrowerRate to grading pre-2009 and post-2009\n",
    "\n",
    "> The BorrowerRate seems to correspond well with ProsperRating and CreditGrade proportionaly. But below shows a slightly different tale."
   ]
  },
  {
   "cell_type": "code",
   "execution_count": 157,
   "metadata": {
    "slideshow": {
     "slide_type": "subslide"
    }
   },
   "outputs": [
    {
     "data": {
      "image/png": "[encoded data removed]",
      "text/plain": [
       "<Figure size 720x576 with 1 Axes>"
      ]
     },
     "metadata": {
      "needs_background": "light"
     },
     "output_type": "display_data"
    }
   ],
   "source": [
    "plt.figure(figsize=(10,8))\n",
    "sb.boxplot(x='ProsperRatingGrade', y='BorrowerRate', hue='IsPost2009', data=df)\n",
    "plt.legend([1,0], ['yes', 'no'])\n",
    "plt.title('BorrowerRate against ProsperRatingGrade by rating pre-2009 and post-2009');"
   ]
  },
  {
   "cell_type": "markdown",
   "metadata": {
    "slideshow": {
     "slide_type": "notes"
    }
   },
   "source": [
    "> Once you're ready to finish your presentation, check your output by using\n",
    "nbconvert to export the notebook and set up a server for the slides. From the\n",
    "terminal or command line, use the following expression:\n",
    "> > `jupyter nbconvert <file_name>.ipynb --to slides --post serve --template output_toggle`\n",
    "\n",
    "> This should open a tab in your web browser where you can scroll through your\n",
    "presentation. Sub-slides can be accessed by pressing 'down' when viewing its parent\n",
    "slide. Make sure you remove all of the quote-formatted guide notes like this one\n",
    "before you finish your presentation!"
   ]
  },
  {
   "cell_type": "code",
   "execution_count": null,
   "metadata": {},
   "outputs": [],
   "source": []
  }
 ],
 "metadata": {
  "celltoolbar": "Slideshow",
  "kernelspec": {
   "display_name": "Python 3",
   "language": "python",
   "name": "python3"
  },
  "language_info": {
   "codemirror_mode": {
    "name": "ipython",
    "version": 3
   },
   "file_extension": ".py",
   "mimetype": "text/x-python",
   "name": "python",
   "nbconvert_exporter": "python",
   "pygments_lexer": "ipython3",
   "version": "3.8.5"
  }
 },
 "nbformat": 4,
 "nbformat_minor": 4
}
