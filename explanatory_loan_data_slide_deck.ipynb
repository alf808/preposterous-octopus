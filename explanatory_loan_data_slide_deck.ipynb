{
 "cells": [
  {
   "cell_type": "markdown",
   "metadata": {
    "slideshow": {
     "slide_type": "slide"
    }
   },
   "source": [
    "# What Features Affect a Borrower's Loan Rate and Prosper Rating\n",
    "## by Alf Maglalang"
   ]
  },
  {
   "cell_type": "markdown",
   "metadata": {
    "slideshow": {
     "slide_type": "slide"
    }
   },
   "source": [
    "## Investigation Overview\n",
    "\n",
    "> The goal of the investigation is to examine through visualizations which features have relationships with **Prosper Rating** and `BorrowerRate`. I am conflating **Prosper Rating** to mean the features `CreditGrade` and `ProsperRating (numeric)` which are mutually exclusive with `CreditGrade` before mid 2009 and `ProsperRating (numeric)` after mid-2009.\n",
    "\n",
    "## Dataset Overview\n",
    "\n",
    "> This loan data is from a lending company called **Prosper**. It was last updated 3/11/2014. It has 113937 records with 81 features, namely\n",
    "\n",
    "> `ListingKey`, `ListingNumber`, `ListingCreationDate`, `CreditGrade`, `Term`, `LoanStatus`, `ClosedDate`, `BorrowerAPR`, `BorrowerRate`, `LenderYield`, `EstimatedEffectiveYield`, `EstimatedLoss`, `EstimatedReturn`, `ProsperRating (numeric)`, `ProsperRating (Alpha)`, `ProsperScore`, `ListingCategory (numeric)`, `BorrowerState`, `Occupation`, `EmploymentStatus`, `EmploymentStatusDuration`, `IsBorrowerHomeowner`, `CurrentlyInGroup`, `GroupKey`, `DateCreditPulled`, `CreditScoreRangeLower`, `CreditScoreRangeUpper`, `FirstRecordedCreditLine`, `CurrentCreditLines`, `OpenCreditLines`, `TotalCreditLinespast7years`, `OpenRevolvingAccounts`, `OpenRevolvingMonthlyPayment`, `InquiriesLast6Months`, `TotalInquiries`, `CurrentDelinquencies`, `AmountDelinquent`, `DelinquenciesLast7Years`, `PublicRecordsLast10Years`, `PublicRecordsLast12Months`, `RevolvingCreditBalance`, `BankcardUtilization`, `AvailableBankcardCredit`, `TotalTrades`, `TradesNeverDelinquent (percentage)`, `TradesOpenedLast6Months`, `DebtToIncomeRatio`, `IncomeRange`, `IncomeVerifiable`, `StatedMonthlyIncome`, `LoanKey`, `TotalProsperLoans`, `TotalProsperPaymentsBilled`, `OnTimeProsperPayments`, `ProsperPaymentsLessThanOneMonthLate`, `ProsperPaymentsOneMonthPlusLate`, `ProsperPrincipalBorrowed`, `ProsperPrincipalOutstanding`, `ScorexChangeAtTimeOfListing`, `LoanCurrentDaysDelinquent`, `LoanFirstDefaultedCycleNumber`, `LoanMonthsSinceOrigination`, `LoanNumber`, `LoanOriginalAmount`, `LoanOriginationDate`, `LoanOriginationQuarter`, `MemberKey`, `MonthlyLoanPayment`, `LP_CustomerPayments`, `LP_CustomerPrincipalPayments`, `LP_InterestandFees`, `LP_ServiceFees`, `LP_CollectionFees`, `LP_GrossPrincipalLoss`, `LP_NetPrincipalLoss`, `LP_NonPrincipalRecoverypayments`, `PercentFunded`, `Recommendations`, `InvestmentFromFriendsCount`, `InvestmentFromFriendsAmount`, `Investors`\n",
    "\n",
    "> Please click on the following link to see the definitions of the data's features. [Prosper Data Dictionary to Explain Dataset's Variables](https://www.google.com/url?q=https://docs.google.com/spreadsheet/ccc?key%3D0AllIqIyvWZdadDd5NTlqZ1pBMHlsUjdrOTZHaVBuSlE%26usp%3Dsharing&sa=D&ust=1554486256024000)\n",
    "\n",
    "> For my analysis, I will look at these features:\n",
    "> `ListingKey`, `EmploymentStatusDuration`, `EmploymentStatus`, `LoanOriginalAmount`, `CreditGrade`, `ProsperRating (numeric)`, `ProsperScore`, `BorrowerRate`, `CreditScoreRangeUpper`, `CurrentDelinquencies`, `IsBorrowerHomeowner`, `CurrentCreditLines`, `AvailableBankcardCredit`\n",
    "\n",
    "> I created 3 new features and renamed one..\n",
    "\n",
    "> - `ProsperRating` -- renaming of `ProsperRating (numeric)` \n",
    "> - `ProsperScoreRange` -- a column containing a string of \"incorrect\" `ProsperScore`s of duplicated `ListingKey` IDs\n",
    "> - `ProsperRatingGrade` -- a column combining `CreditGrade` and `ProsperRating`\n",
    "> - `post2009` -- a column that is a form of boolean mask differentiating if a `ProsperRatingGrade` is originally from `CreditGrade` or from `ProsperRating`."
   ]
  },
  {
   "cell_type": "code",
   "execution_count": 1,
   "metadata": {
    "slideshow": {
     "slide_type": "skip"
    }
   },
   "outputs": [],
   "source": [
    "# import all packages and set plots to be embedded inline\n",
    "import numpy as np\n",
    "import pandas as pd\n",
    "import matplotlib.pyplot as plt\n",
    "import seaborn as sb\n",
    "\n",
    "%matplotlib inline\n",
    "\n",
    "# suppress warnings from final output\n",
    "import warnings\n",
    "warnings.simplefilter(\"ignore\")"
   ]
  },
  {
   "cell_type": "code",
   "execution_count": 10,
   "metadata": {
    "slideshow": {
     "slide_type": "skip"
    }
   },
   "outputs": [],
   "source": [
    "# load in the dataset into a pandas dataframe\n",
    "# pld will be short for prosperLoanData\n",
    "pld = pd.read_csv('prosperLoanData.csv')"
   ]
  },
  {
   "cell_type": "markdown",
   "metadata": {},
   "source": [
    "## Remove Duplicate ListingKey IDs (while preserving ProsperScore)"
   ]
  },
  {
   "cell_type": "code",
   "execution_count": 11,
   "metadata": {},
   "outputs": [],
   "source": [
    "# dup_listing_idx contains the keys that have duplicates:\n",
    "dup_idx = pld[pld.ListingKey.duplicated()]['ListingKey']\n",
    "dup_listing_idx = set(dup_idx.tolist())"
   ]
  },
  {
   "cell_type": "code",
   "execution_count": 12,
   "metadata": {},
   "outputs": [],
   "source": [
    "tpld = pld.copy()"
   ]
  },
  {
   "cell_type": "code",
   "execution_count": 14,
   "metadata": {},
   "outputs": [],
   "source": [
    "# trim spaces to make sure it is not spaces that make a difference\n",
    "tpld = tpld.apply(lambda x: x.str.strip() if x.dtype == \"object\" else x)\n",
    "\n",
    "# create a dataframe with just ListingKey and ProsperScore\n",
    "lk_ps_df = tpld[tpld.ListingKey.isin(dup_listing_idx)][['ListingKey', 'ProsperScore']]\n",
    "lk_ps_df = lk_ps_df.sort_values(by=['ListingKey', 'ProsperScore'])\n",
    "\n",
    "# create a new column ProsperScoreRange and set index to ListingKey\n",
    "lk_ps_df['ProsperScoreRange'] = None\n",
    "lk_ps_df = lk_ps_df.set_index(['ListingKey'])\n",
    "\n",
    "# create a dictionary with key as ListingKey and the ProsperScore range as value\n",
    "psr_dict = {}\n",
    "for lk in dup_listing_idx:\n",
    "    psr_dict[lk] = lk_ps_df.loc[lk]['ProsperScore'].tolist()\n",
    "\n",
    "# place all the new range value from the dictionary into dataframe column lk_ps_df['ProsperScoreRange']\n",
    "for k, v in psr_dict.items():\n",
    "    vstr = [str(i) for i in v] # convert the list into strings\n",
    "    yy = \",\".join(vstr)\n",
    "    lk_ps_df.loc[k, 'ProsperScoreRange'] = yy\n",
    "\n",
    "# reset the index then drop the column ProsperScore from lk_ps_df\n",
    "lk_ps_df.reset_index(inplace=True)\n",
    "lk_ps_df = lk_ps_df.drop(['ProsperScore'], axis=1)\n",
    "\n",
    "# now remove all the duplicates on ListingKey\n",
    "lk_ps_df.drop_duplicates(subset=['ListingKey'], inplace=True, keep='first')\n",
    "\n",
    "temp_cols = ['ListingKey', 'ListingNumber', 'ListingCreationDate', 'CreditGrade', 'Term', 'LoanStatus', 'ClosedDate', 'BorrowerAPR', 'BorrowerRate', 'LenderYield', 'EstimatedEffectiveYield', 'EstimatedLoss', 'EstimatedReturn', 'ProsperRating (numeric)', 'ProsperRating (Alpha)', 'ListingCategory (numeric)', 'BorrowerState', 'Occupation', 'EmploymentStatus', 'EmploymentStatusDuration', 'IsBorrowerHomeowner', 'CurrentlyInGroup', 'GroupKey', 'DateCreditPulled', 'CreditScoreRangeLower', 'CreditScoreRangeUpper', 'FirstRecordedCreditLine', 'CurrentCreditLines', 'OpenCreditLines', 'TotalCreditLinespast7years', 'OpenRevolvingAccounts', 'OpenRevolvingMonthlyPayment', 'InquiriesLast6Months', 'TotalInquiries', 'CurrentDelinquencies', 'AmountDelinquent', 'DelinquenciesLast7Years', 'PublicRecordsLast10Years', 'PublicRecordsLast12Months', 'RevolvingCreditBalance', 'BankcardUtilization', 'AvailableBankcardCredit', 'TotalTrades', 'TradesNeverDelinquent (percentage)', 'TradesOpenedLast6Months', 'DebtToIncomeRatio', 'IncomeRange', 'IncomeVerifiable', 'StatedMonthlyIncome', 'LoanKey', 'TotalProsperLoans', 'TotalProsperPaymentsBilled', 'OnTimeProsperPayments', 'ProsperPaymentsLessThanOneMonthLate', 'ProsperPaymentsOneMonthPlusLate', 'ProsperPrincipalBorrowed', 'ProsperPrincipalOutstanding', 'ScorexChangeAtTimeOfListing', 'LoanCurrentDaysDelinquent', 'LoanFirstDefaultedCycleNumber', 'LoanMonthsSinceOrigination', 'LoanNumber', 'LoanOriginalAmount', 'LoanOriginationDate', 'LoanOriginationQuarter', 'MemberKey', 'MonthlyLoanPayment', 'LP_CustomerPayments', 'LP_CustomerPrincipalPayments', 'LP_InterestandFees', 'LP_ServiceFees', 'LP_CollectionFees', 'LP_GrossPrincipalLoss', 'LP_NetPrincipalLoss', 'LP_NonPrincipalRecoverypayments', 'PercentFunded', 'Recommendations', 'InvestmentFromFriendsCount', 'InvestmentFromFriendsAmount', 'Investors']\n",
    "\n",
    "# drop all the duplicates in tpld based on temp_cols subset (i.e., without ProsperScore)\n",
    "tpld.drop_duplicates(subset=temp_cols, inplace=True, keep='first')\n",
    "\n",
    "# merge the two df tpld and lk_ps_df on ListingKey\n",
    "tpld = pd.merge(tpld, lk_ps_df, on=['ListingKey'], how='left')"
   ]
  },
  {
   "cell_type": "code",
   "execution_count": 15,
   "metadata": {},
   "outputs": [
    {
     "name": "stdout",
     "output_type": "stream",
     "text": [
      "<class 'pandas.core.frame.DataFrame'>\n",
      "Int64Index: 113066 entries, 0 to 113065\n",
      "Data columns (total 82 columns):\n",
      " #   Column                               Non-Null Count   Dtype  \n",
      "---  ------                               --------------   -----  \n",
      " 0   ListingKey                           113066 non-null  object \n",
      " 1   ListingNumber                        113066 non-null  int64  \n",
      " 2   ListingCreationDate                  113066 non-null  object \n",
      " 3   CreditGrade                          28953 non-null   object \n",
      " 4   Term                                 113066 non-null  int64  \n",
      " 5   LoanStatus                           113066 non-null  object \n",
      " 6   ClosedDate                           55076 non-null   object \n",
      " 7   BorrowerAPR                          113041 non-null  float64\n",
      " 8   BorrowerRate                         113066 non-null  float64\n",
      " 9   LenderYield                          113066 non-null  float64\n",
      " 10  EstimatedEffectiveYield              83982 non-null   float64\n",
      " 11  EstimatedLoss                        83982 non-null   float64\n",
      " 12  EstimatedReturn                      83982 non-null   float64\n",
      " 13  ProsperRating (numeric)              83982 non-null   float64\n",
      " 14  ProsperRating (Alpha)                83982 non-null   object \n",
      " 15  ProsperScore                         83982 non-null   float64\n",
      " 16  ListingCategory (numeric)            113066 non-null  int64  \n",
      " 17  BorrowerState                        107551 non-null  object \n",
      " 18  Occupation                           109537 non-null  object \n",
      " 19  EmploymentStatus                     110811 non-null  object \n",
      " 20  EmploymentStatusDuration             105441 non-null  float64\n",
      " 21  IsBorrowerHomeowner                  113066 non-null  bool   \n",
      " 22  CurrentlyInGroup                     113066 non-null  bool   \n",
      " 23  GroupKey                             13339 non-null   object \n",
      " 24  DateCreditPulled                     113066 non-null  object \n",
      " 25  CreditScoreRangeLower                112475 non-null  float64\n",
      " 26  CreditScoreRangeUpper                112475 non-null  float64\n",
      " 27  FirstRecordedCreditLine              112369 non-null  object \n",
      " 28  CurrentCreditLines                   105462 non-null  float64\n",
      " 29  OpenCreditLines                      105462 non-null  float64\n",
      " 30  TotalCreditLinespast7years           112369 non-null  float64\n",
      " 31  OpenRevolvingAccounts                113066 non-null  int64  \n",
      " 32  OpenRevolvingMonthlyPayment          113066 non-null  float64\n",
      " 33  InquiriesLast6Months                 112369 non-null  float64\n",
      " 34  TotalInquiries                       111907 non-null  float64\n",
      " 35  CurrentDelinquencies                 112369 non-null  float64\n",
      " 36  AmountDelinquent                     105444 non-null  float64\n",
      " 37  DelinquenciesLast7Years              112076 non-null  float64\n",
      " 38  PublicRecordsLast10Years             112369 non-null  float64\n",
      " 39  PublicRecordsLast12Months            105462 non-null  float64\n",
      " 40  RevolvingCreditBalance               105462 non-null  float64\n",
      " 41  BankcardUtilization                  105462 non-null  float64\n",
      " 42  AvailableBankcardCredit              105522 non-null  float64\n",
      " 43  TotalTrades                          105522 non-null  float64\n",
      " 44  TradesNeverDelinquent (percentage)   105522 non-null  float64\n",
      " 45  TradesOpenedLast6Months              105522 non-null  float64\n",
      " 46  DebtToIncomeRatio                    104594 non-null  float64\n",
      " 47  IncomeRange                          113066 non-null  object \n",
      " 48  IncomeVerifiable                     113066 non-null  bool   \n",
      " 49  StatedMonthlyIncome                  113066 non-null  float64\n",
      " 50  LoanKey                              113066 non-null  object \n",
      " 51  TotalProsperLoans                    21923 non-null   float64\n",
      " 52  TotalProsperPaymentsBilled           21923 non-null   float64\n",
      " 53  OnTimeProsperPayments                21923 non-null   float64\n",
      " 54  ProsperPaymentsLessThanOneMonthLate  21923 non-null   float64\n",
      " 55  ProsperPaymentsOneMonthPlusLate      21923 non-null   float64\n",
      " 56  ProsperPrincipalBorrowed             21923 non-null   float64\n",
      " 57  ProsperPrincipalOutstanding          21923 non-null   float64\n",
      " 58  ScorexChangeAtTimeOfListing          18912 non-null   float64\n",
      " 59  LoanCurrentDaysDelinquent            113066 non-null  int64  \n",
      " 60  LoanFirstDefaultedCycleNumber        16952 non-null   float64\n",
      " 61  LoanMonthsSinceOrigination           113066 non-null  int64  \n",
      " 62  LoanNumber                           113066 non-null  int64  \n",
      " 63  LoanOriginalAmount                   113066 non-null  int64  \n",
      " 64  LoanOriginationDate                  113066 non-null  object \n",
      " 65  LoanOriginationQuarter               113066 non-null  object \n",
      " 66  MemberKey                            113066 non-null  object \n",
      " 67  MonthlyLoanPayment                   113066 non-null  float64\n",
      " 68  LP_CustomerPayments                  113066 non-null  float64\n",
      " 69  LP_CustomerPrincipalPayments         113066 non-null  float64\n",
      " 70  LP_InterestandFees                   113066 non-null  float64\n",
      " 71  LP_ServiceFees                       113066 non-null  float64\n",
      " 72  LP_CollectionFees                    113066 non-null  float64\n",
      " 73  LP_GrossPrincipalLoss                113066 non-null  float64\n",
      " 74  LP_NetPrincipalLoss                  113066 non-null  float64\n",
      " 75  LP_NonPrincipalRecoverypayments      113066 non-null  float64\n",
      " 76  PercentFunded                        113066 non-null  float64\n",
      " 77  Recommendations                      113066 non-null  int64  \n",
      " 78  InvestmentFromFriendsCount           113066 non-null  int64  \n",
      " 79  InvestmentFromFriendsAmount          113066 non-null  float64\n",
      " 80  Investors                            113066 non-null  int64  \n",
      " 81  ProsperScoreRange                    827 non-null     object \n",
      "dtypes: bool(3), float64(50), int64(11), object(18)\n",
      "memory usage: 69.3+ MB\n"
     ]
    }
   ],
   "source": [
    "tpld.info()"
   ]
  },
  {
   "cell_type": "code",
   "execution_count": 16,
   "metadata": {},
   "outputs": [
    {
     "data": {
      "text/html": [
       "<div>\n",
       "<style scoped>\n",
       "    .dataframe tbody tr th:only-of-type {\n",
       "        vertical-align: middle;\n",
       "    }\n",
       "\n",
       "    .dataframe tbody tr th {\n",
       "        vertical-align: top;\n",
       "    }\n",
       "\n",
       "    .dataframe thead th {\n",
       "        text-align: right;\n",
       "    }\n",
       "</style>\n",
       "<table border=\"1\" class=\"dataframe\">\n",
       "  <thead>\n",
       "    <tr style=\"text-align: right;\">\n",
       "      <th></th>\n",
       "      <th>ListingKey</th>\n",
       "      <th>ListingNumber</th>\n",
       "      <th>ListingCreationDate</th>\n",
       "      <th>CreditGrade</th>\n",
       "      <th>Term</th>\n",
       "      <th>LoanStatus</th>\n",
       "      <th>ClosedDate</th>\n",
       "      <th>BorrowerAPR</th>\n",
       "      <th>BorrowerRate</th>\n",
       "      <th>LenderYield</th>\n",
       "      <th>...</th>\n",
       "      <th>LP_CollectionFees</th>\n",
       "      <th>LP_GrossPrincipalLoss</th>\n",
       "      <th>LP_NetPrincipalLoss</th>\n",
       "      <th>LP_NonPrincipalRecoverypayments</th>\n",
       "      <th>PercentFunded</th>\n",
       "      <th>Recommendations</th>\n",
       "      <th>InvestmentFromFriendsCount</th>\n",
       "      <th>InvestmentFromFriendsAmount</th>\n",
       "      <th>Investors</th>\n",
       "      <th>ProsperScoreRange</th>\n",
       "    </tr>\n",
       "  </thead>\n",
       "  <tbody>\n",
       "    <tr>\n",
       "      <th>0</th>\n",
       "      <td>1021339766868145413AB3B</td>\n",
       "      <td>193129</td>\n",
       "      <td>2007-08-26 19:09:29.263000000</td>\n",
       "      <td>C</td>\n",
       "      <td>36</td>\n",
       "      <td>Completed</td>\n",
       "      <td>2009-08-14 00:00:00</td>\n",
       "      <td>0.16516</td>\n",
       "      <td>0.1580</td>\n",
       "      <td>0.1380</td>\n",
       "      <td>...</td>\n",
       "      <td>0.0</td>\n",
       "      <td>0.0</td>\n",
       "      <td>0.0</td>\n",
       "      <td>0.0</td>\n",
       "      <td>1.0</td>\n",
       "      <td>0</td>\n",
       "      <td>0</td>\n",
       "      <td>0.0</td>\n",
       "      <td>258</td>\n",
       "      <td>NaN</td>\n",
       "    </tr>\n",
       "    <tr>\n",
       "      <th>1</th>\n",
       "      <td>10273602499503308B223C1</td>\n",
       "      <td>1209647</td>\n",
       "      <td>2014-02-27 08:28:07.900000000</td>\n",
       "      <td>NaN</td>\n",
       "      <td>36</td>\n",
       "      <td>Current</td>\n",
       "      <td>NaN</td>\n",
       "      <td>0.12016</td>\n",
       "      <td>0.0920</td>\n",
       "      <td>0.0820</td>\n",
       "      <td>...</td>\n",
       "      <td>0.0</td>\n",
       "      <td>0.0</td>\n",
       "      <td>0.0</td>\n",
       "      <td>0.0</td>\n",
       "      <td>1.0</td>\n",
       "      <td>0</td>\n",
       "      <td>0</td>\n",
       "      <td>0.0</td>\n",
       "      <td>1</td>\n",
       "      <td>NaN</td>\n",
       "    </tr>\n",
       "    <tr>\n",
       "      <th>2</th>\n",
       "      <td>0EE9337825851032864889A</td>\n",
       "      <td>81716</td>\n",
       "      <td>2007-01-05 15:00:47.090000000</td>\n",
       "      <td>HR</td>\n",
       "      <td>36</td>\n",
       "      <td>Completed</td>\n",
       "      <td>2009-12-17 00:00:00</td>\n",
       "      <td>0.28269</td>\n",
       "      <td>0.2750</td>\n",
       "      <td>0.2400</td>\n",
       "      <td>...</td>\n",
       "      <td>0.0</td>\n",
       "      <td>0.0</td>\n",
       "      <td>0.0</td>\n",
       "      <td>0.0</td>\n",
       "      <td>1.0</td>\n",
       "      <td>0</td>\n",
       "      <td>0</td>\n",
       "      <td>0.0</td>\n",
       "      <td>41</td>\n",
       "      <td>NaN</td>\n",
       "    </tr>\n",
       "    <tr>\n",
       "      <th>3</th>\n",
       "      <td>0EF5356002482715299901A</td>\n",
       "      <td>658116</td>\n",
       "      <td>2012-10-22 11:02:35.010000000</td>\n",
       "      <td>NaN</td>\n",
       "      <td>36</td>\n",
       "      <td>Current</td>\n",
       "      <td>NaN</td>\n",
       "      <td>0.12528</td>\n",
       "      <td>0.0974</td>\n",
       "      <td>0.0874</td>\n",
       "      <td>...</td>\n",
       "      <td>0.0</td>\n",
       "      <td>0.0</td>\n",
       "      <td>0.0</td>\n",
       "      <td>0.0</td>\n",
       "      <td>1.0</td>\n",
       "      <td>0</td>\n",
       "      <td>0</td>\n",
       "      <td>0.0</td>\n",
       "      <td>158</td>\n",
       "      <td>NaN</td>\n",
       "    </tr>\n",
       "    <tr>\n",
       "      <th>4</th>\n",
       "      <td>0F023589499656230C5E3E2</td>\n",
       "      <td>909464</td>\n",
       "      <td>2013-09-14 18:38:39.097000000</td>\n",
       "      <td>NaN</td>\n",
       "      <td>36</td>\n",
       "      <td>Current</td>\n",
       "      <td>NaN</td>\n",
       "      <td>0.24614</td>\n",
       "      <td>0.2085</td>\n",
       "      <td>0.1985</td>\n",
       "      <td>...</td>\n",
       "      <td>0.0</td>\n",
       "      <td>0.0</td>\n",
       "      <td>0.0</td>\n",
       "      <td>0.0</td>\n",
       "      <td>1.0</td>\n",
       "      <td>0</td>\n",
       "      <td>0</td>\n",
       "      <td>0.0</td>\n",
       "      <td>20</td>\n",
       "      <td>NaN</td>\n",
       "    </tr>\n",
       "  </tbody>\n",
       "</table>\n",
       "<p>5 rows × 82 columns</p>\n",
       "</div>"
      ],
      "text/plain": [
       "                ListingKey  ListingNumber            ListingCreationDate  \\\n",
       "0  1021339766868145413AB3B         193129  2007-08-26 19:09:29.263000000   \n",
       "1  10273602499503308B223C1        1209647  2014-02-27 08:28:07.900000000   \n",
       "2  0EE9337825851032864889A          81716  2007-01-05 15:00:47.090000000   \n",
       "3  0EF5356002482715299901A         658116  2012-10-22 11:02:35.010000000   \n",
       "4  0F023589499656230C5E3E2         909464  2013-09-14 18:38:39.097000000   \n",
       "\n",
       "  CreditGrade  Term LoanStatus           ClosedDate  BorrowerAPR  \\\n",
       "0           C    36  Completed  2009-08-14 00:00:00      0.16516   \n",
       "1         NaN    36    Current                  NaN      0.12016   \n",
       "2          HR    36  Completed  2009-12-17 00:00:00      0.28269   \n",
       "3         NaN    36    Current                  NaN      0.12528   \n",
       "4         NaN    36    Current                  NaN      0.24614   \n",
       "\n",
       "   BorrowerRate  LenderYield  ...  LP_CollectionFees  LP_GrossPrincipalLoss  \\\n",
       "0        0.1580       0.1380  ...                0.0                    0.0   \n",
       "1        0.0920       0.0820  ...                0.0                    0.0   \n",
       "2        0.2750       0.2400  ...                0.0                    0.0   \n",
       "3        0.0974       0.0874  ...                0.0                    0.0   \n",
       "4        0.2085       0.1985  ...                0.0                    0.0   \n",
       "\n",
       "   LP_NetPrincipalLoss  LP_NonPrincipalRecoverypayments PercentFunded  \\\n",
       "0                  0.0                              0.0           1.0   \n",
       "1                  0.0                              0.0           1.0   \n",
       "2                  0.0                              0.0           1.0   \n",
       "3                  0.0                              0.0           1.0   \n",
       "4                  0.0                              0.0           1.0   \n",
       "\n",
       "   Recommendations  InvestmentFromFriendsCount InvestmentFromFriendsAmount  \\\n",
       "0                0                           0                         0.0   \n",
       "1                0                           0                         0.0   \n",
       "2                0                           0                         0.0   \n",
       "3                0                           0                         0.0   \n",
       "4                0                           0                         0.0   \n",
       "\n",
       "  Investors ProsperScoreRange  \n",
       "0       258               NaN  \n",
       "1         1               NaN  \n",
       "2        41               NaN  \n",
       "3       158               NaN  \n",
       "4        20               NaN  \n",
       "\n",
       "[5 rows x 82 columns]"
      ]
     },
     "execution_count": 16,
     "metadata": {},
     "output_type": "execute_result"
    }
   ],
   "source": [
    "tpld.head()"
   ]
  },
  {
   "cell_type": "code",
   "execution_count": null,
   "metadata": {},
   "outputs": [],
   "source": [
    "#select_features = ['EmploymentStatus', 'LoanOriginalAmount', 'CreditScoreRangeUpper', 'LoanStatus', 'BorrowerRate', 'StatedMonthlyIncome', 'ProsperRating (numeric)', 'ListingCategory (numeric)', 'IsBorrowerHomeowner']\n",
    "select_features = ['ListingKey', 'EmploymentStatusDuration', 'EmploymentStatus', 'LoanOriginalAmount', 'CreditGrade', 'ProsperRating (numeric)', 'ProsperScore', 'ProsperScoreRange', 'BorrowerRate', 'CreditScoreRangeUpper', 'CurrentDelinquencies', 'IsBorrowerHomeowner', 'CurrentCreditLines', 'AvailableBankcardCredit']\n",
    "df = tpld[select_features]\n",
    "df.info()"
   ]
  },
  {
   "cell_type": "markdown",
   "metadata": {
    "slideshow": {
     "slide_type": "notes"
    }
   },
   "source": [
    "> Note that the above cells have been set as \"Skip\"-type slides. That means\n",
    "that when the notebook is rendered as http slides, those cells won't show up."
   ]
  },
  {
   "cell_type": "markdown",
   "metadata": {
    "slideshow": {
     "slide_type": "slide"
    }
   },
   "source": [
    "## What is ProsperScore to ProsperRating\n",
    "\n",
    "> The journey began with the discovery that there were duplicate records that only differed in the `ProsperScore` column. To correct these \"errors\", I set to determine and possibly use the relationship between `ProsperRating` and `ProsperScore` since `ProsperRating` is the most correlative to `ProsperScore`.\n",
    "> The visual below illustrate that `ProsperRating` is a reasonable measure to determine \"correct\" `ProsperScore`."
   ]
  },
  {
   "cell_type": "code",
   "execution_count": null,
   "metadata": {
    "slideshow": {
     "slide_type": "subslide"
    }
   },
   "outputs": [],
   "source": []
  },
  {
   "cell_type": "markdown",
   "metadata": {
    "slideshow": {
     "slide_type": "slide"
    }
   },
   "source": [
    "## (Visualization 2)\n",
    "\n",
    "> You should have at least three visualizations in your presentation,\n",
    "but feel free to add more if you'd like!"
   ]
  },
  {
   "cell_type": "code",
   "execution_count": null,
   "metadata": {
    "slideshow": {
     "slide_type": "subslide"
    }
   },
   "outputs": [],
   "source": []
  },
  {
   "cell_type": "markdown",
   "metadata": {
    "slideshow": {
     "slide_type": "slide"
    }
   },
   "source": [
    "## (Visualization 3)\n",
    "\n"
   ]
  },
  {
   "cell_type": "code",
   "execution_count": null,
   "metadata": {
    "slideshow": {
     "slide_type": "subslide"
    }
   },
   "outputs": [],
   "source": []
  },
  {
   "cell_type": "markdown",
   "metadata": {
    "slideshow": {
     "slide_type": "notes"
    }
   },
   "source": [
    "> Once you're ready to finish your presentation, check your output by using\n",
    "nbconvert to export the notebook and set up a server for the slides. From the\n",
    "terminal or command line, use the following expression:\n",
    "> > `jupyter nbconvert <file_name>.ipynb --to slides --post serve --template output_toggle`\n",
    "\n",
    "> This should open a tab in your web browser where you can scroll through your\n",
    "presentation. Sub-slides can be accessed by pressing 'down' when viewing its parent\n",
    "slide. Make sure you remove all of the quote-formatted guide notes like this one\n",
    "before you finish your presentation!"
   ]
  },
  {
   "cell_type": "code",
   "execution_count": null,
   "metadata": {},
   "outputs": [],
   "source": []
  }
 ],
 "metadata": {
  "celltoolbar": "Slideshow",
  "kernelspec": {
   "display_name": "Python 3",
   "language": "python",
   "name": "python3"
  },
  "language_info": {
   "codemirror_mode": {
    "name": "ipython",
    "version": 3
   },
   "file_extension": ".py",
   "mimetype": "text/x-python",
   "name": "python",
   "nbconvert_exporter": "python",
   "pygments_lexer": "ipython3",
   "version": "3.8.5"
  }
 },
 "nbformat": 4,
 "nbformat_minor": 4
}
